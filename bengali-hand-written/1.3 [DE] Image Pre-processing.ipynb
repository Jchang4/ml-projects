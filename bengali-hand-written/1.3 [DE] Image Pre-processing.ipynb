{
 "cells": [
  {
   "cell_type": "markdown",
   "metadata": {},
   "source": [
    "# Data Exploration: Image Pre-Processing\n",
    "Let's preprocess the images so that they are:\n",
    "- center cropped\n",
    "- NxN dimensions (same height and width)\n",
    "\n",
    "Finally, we output the images into two folders: `train` and `test`\n",
    "Each file will be a 137x236 image with the `image_id` as the filename\n",
    "\n",
    "## NOTE: images are normalized individually instead of in batches or by the whole dataset!"
   ]
  },
  {
   "cell_type": "code",
   "execution_count": 1,
   "metadata": {},
   "outputs": [],
   "source": [
    "%reload_ext autoreload\n",
    "%autoreload 2\n",
    "%matplotlib inline"
   ]
  },
  {
   "cell_type": "code",
   "execution_count": 2,
   "metadata": {},
   "outputs": [],
   "source": [
    "import os\n",
    "from pathlib import Path\n",
    "\n",
    "import pandas as pd\n",
    "from helpers.preprocess import gen_preprocessed_data"
   ]
  },
  {
   "cell_type": "code",
   "execution_count": 3,
   "metadata": {},
   "outputs": [
    {
     "data": {
      "text/plain": [
       "['bengaliai-cv19.zip',\n",
       " 'class_map.csv',\n",
       " 'mini-train',\n",
       " 'mini-train.csv',\n",
       " 'models',\n",
       " 'sample_submission.csv',\n",
       " 'test',\n",
       " 'test.csv',\n",
       " 'test_image_data_0.parquet',\n",
       " 'test_image_data_1.parquet',\n",
       " 'test_image_data_2.parquet',\n",
       " 'test_image_data_3.parquet',\n",
       " 'train',\n",
       " 'train.csv',\n",
       " 'train_image_data_0.parquet',\n",
       " 'train_image_data_1.parquet',\n",
       " 'train_image_data_2.parquet',\n",
       " 'train_image_data_3.parquet']"
      ]
     },
     "execution_count": 3,
     "metadata": {},
     "output_type": "execute_result"
    }
   ],
   "source": [
    "path = Path('./data')\n",
    "sorted(os.listdir(path))"
   ]
  },
  {
   "cell_type": "code",
   "execution_count": 4,
   "metadata": {},
   "outputs": [],
   "source": [
    "HEIGHT = 137\n",
    "WIDTH = 236\n",
    "TRAIN_DATASETS = [\n",
    "    path/'train_image_data_0.parquet',\n",
    "    path/'train_image_data_1.parquet',\n",
    "    path/'train_image_data_2.parquet',\n",
    "    path/'train_image_data_3.parquet',\n",
    "]\n",
    "TEST_DATASETS = [\n",
    "    path/'test_image_data_0.parquet',\n",
    "    path/'test_image_data_1.parquet',\n",
    "    path/'test_image_data_2.parquet',\n",
    "    path/'test_image_data_3.parquet',\n",
    "]"
   ]
  },
  {
   "cell_type": "code",
   "execution_count": null,
   "metadata": {
    "scrolled": true
   },
   "outputs": [],
   "source": [
    "gen_preprocessed_data(TRAIN_DATASETS, path/'train')"
   ]
  },
  {
   "cell_type": "code",
   "execution_count": null,
   "metadata": {},
   "outputs": [],
   "source": [
    "gen_preprocessed_data(TEST_DATASETS, path/'test')"
   ]
  },
  {
   "cell_type": "markdown",
   "metadata": {},
   "source": [
    "# Create mini dataset"
   ]
  },
  {
   "cell_type": "code",
   "execution_count": 5,
   "metadata": {},
   "outputs": [],
   "source": [
    "def create_mini_train_dataset(parquet_path, save_dir=path/'mini-train', \n",
    "                              csv_fn='mini-train.csv'):\n",
    "    # We assume the save_dir is already created\n",
    "    # Add image files to save_dir\n",
    "    gen_preprocessed_data([parquet_path], save_dir)\n",
    "    # Get labels from train.csv\n",
    "    train_df = pd.read_csv(path/'train.csv')\n",
    "    mini_image_ids = pd.read_parquet(parquet_path).image_id\n",
    "    mini_df = train_df[train_df.image_id.isin(mini_image_ids)]\n",
    "    assert len(mini_image_ids) == len(mini_df)\n",
    "    # Save mini df\n",
    "    mini_df.to_csv(path/csv_fn)\n",
    "    return mini_df"
   ]
  },
  {
   "cell_type": "code",
   "execution_count": 6,
   "metadata": {
    "scrolled": true
   },
   "outputs": [
    {
     "name": "stdout",
     "output_type": "stream",
     "text": [
      "Completed 0.000000% in 4.302143\n",
      "Completed 9.958176% in 9.230625\n",
      "Completed 19.916351% in 14.064235\n",
      "Completed 29.874527% in 18.915031\n",
      "Completed 39.832703% in 23.706350\n",
      "Completed 49.790878% in 28.483585\n",
      "Completed 59.749054% in 33.398123\n",
      "Completed 69.707230% in 38.242907\n",
      "Completed 79.665405% in 43.051191\n",
      "Completed 89.623581% in 47.840643\n",
      "Completed 99.581757% in 52.656681\n",
      "Total time for df:  52.960880279541016\n",
      "\n",
      "Total time:  52.960991859436035\n"
     ]
    },
    {
     "data": {
      "text/html": [
       "<div>\n",
       "<style scoped>\n",
       "    .dataframe tbody tr th:only-of-type {\n",
       "        vertical-align: middle;\n",
       "    }\n",
       "\n",
       "    .dataframe tbody tr th {\n",
       "        vertical-align: top;\n",
       "    }\n",
       "\n",
       "    .dataframe thead th {\n",
       "        text-align: right;\n",
       "    }\n",
       "</style>\n",
       "<table border=\"1\" class=\"dataframe\">\n",
       "  <thead>\n",
       "    <tr style=\"text-align: right;\">\n",
       "      <th></th>\n",
       "      <th>image_id</th>\n",
       "      <th>grapheme_root</th>\n",
       "      <th>vowel_diacritic</th>\n",
       "      <th>consonant_diacritic</th>\n",
       "      <th>grapheme</th>\n",
       "    </tr>\n",
       "  </thead>\n",
       "  <tbody>\n",
       "    <tr>\n",
       "      <th>0</th>\n",
       "      <td>Train_0</td>\n",
       "      <td>15</td>\n",
       "      <td>9</td>\n",
       "      <td>5</td>\n",
       "      <td>ক্ট্রো</td>\n",
       "    </tr>\n",
       "    <tr>\n",
       "      <th>1</th>\n",
       "      <td>Train_1</td>\n",
       "      <td>159</td>\n",
       "      <td>0</td>\n",
       "      <td>0</td>\n",
       "      <td>হ</td>\n",
       "    </tr>\n",
       "    <tr>\n",
       "      <th>2</th>\n",
       "      <td>Train_2</td>\n",
       "      <td>22</td>\n",
       "      <td>3</td>\n",
       "      <td>5</td>\n",
       "      <td>খ্রী</td>\n",
       "    </tr>\n",
       "    <tr>\n",
       "      <th>3</th>\n",
       "      <td>Train_3</td>\n",
       "      <td>53</td>\n",
       "      <td>2</td>\n",
       "      <td>2</td>\n",
       "      <td>র্টি</td>\n",
       "    </tr>\n",
       "    <tr>\n",
       "      <th>4</th>\n",
       "      <td>Train_4</td>\n",
       "      <td>71</td>\n",
       "      <td>9</td>\n",
       "      <td>5</td>\n",
       "      <td>থ্রো</td>\n",
       "    </tr>\n",
       "  </tbody>\n",
       "</table>\n",
       "</div>"
      ],
      "text/plain": [
       "  image_id  grapheme_root  vowel_diacritic  consonant_diacritic grapheme\n",
       "0  Train_0             15                9                    5   ক্ট্রো\n",
       "1  Train_1            159                0                    0        হ\n",
       "2  Train_2             22                3                    5     খ্রী\n",
       "3  Train_3             53                2                    2     র্টি\n",
       "4  Train_4             71                9                    5     থ্রো"
      ]
     },
     "execution_count": 6,
     "metadata": {},
     "output_type": "execute_result"
    }
   ],
   "source": [
    "mini_train = create_mini_train_dataset(TRAIN_DATASETS[0])\n",
    "mini_train.head()"
   ]
  },
  {
   "cell_type": "code",
   "execution_count": null,
   "metadata": {},
   "outputs": [],
   "source": []
  }
 ],
 "metadata": {
  "kernelspec": {
   "display_name": "Python 3",
   "language": "python",
   "name": "python3"
  },
  "language_info": {
   "codemirror_mode": {
    "name": "ipython",
    "version": 3
   },
   "file_extension": ".py",
   "mimetype": "text/x-python",
   "name": "python",
   "nbconvert_exporter": "python",
   "pygments_lexer": "ipython3",
   "version": "3.7.3"
  }
 },
 "nbformat": 4,
 "nbformat_minor": 2
}

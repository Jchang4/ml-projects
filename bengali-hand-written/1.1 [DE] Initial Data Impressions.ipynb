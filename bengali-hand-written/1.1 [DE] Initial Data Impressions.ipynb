{
 "cells": [
  {
   "cell_type": "markdown",
   "metadata": {},
   "source": [
    "# Data Exploration: Initial Data Impressions\n",
    "Let's take a look at the CSV and parquet files so we know what we're working with!"
   ]
  },
  {
   "cell_type": "code",
   "execution_count": 1,
   "metadata": {},
   "outputs": [],
   "source": [
    "%reload_ext autoreload\n",
    "%autoreload 2\n",
    "%matplotlib inline"
   ]
  },
  {
   "cell_type": "code",
   "execution_count": 4,
   "metadata": {},
   "outputs": [],
   "source": [
    "import os\n",
    "from pathlib import Path\n",
    "import pandas as pd\n",
    "import matplotlib.pyplot as plt"
   ]
  },
  {
   "cell_type": "code",
   "execution_count": 3,
   "metadata": {},
   "outputs": [],
   "source": [
    "# Helpers\n",
    "# param: dfs has the shape (title, df)\n",
    "def print_dfs(dfs):\n",
    "    for title, df in dfs:\n",
    "        print(title)\n",
    "        print(df.head())\n",
    "        print()"
   ]
  },
  {
   "cell_type": "code",
   "execution_count": 5,
   "metadata": {},
   "outputs": [
    {
     "data": {
      "text/plain": [
       "['bengaliai-cv19.zip',\n",
       " 'class_map.csv',\n",
       " 'mini-train',\n",
       " 'mini-train.csv',\n",
       " 'models',\n",
       " 'sample_submission.csv',\n",
       " 'test',\n",
       " 'test.csv',\n",
       " 'test_image_data_0.parquet',\n",
       " 'test_image_data_1.parquet',\n",
       " 'test_image_data_2.parquet',\n",
       " 'test_image_data_3.parquet',\n",
       " 'train',\n",
       " 'train.csv',\n",
       " 'train_image_data_0.parquet',\n",
       " 'train_image_data_1.parquet',\n",
       " 'train_image_data_2.parquet',\n",
       " 'train_image_data_3.parquet']"
      ]
     },
     "execution_count": 5,
     "metadata": {},
     "output_type": "execute_result"
    }
   ],
   "source": [
    "path = Path('./data')\n",
    "sorted(os.listdir(path))"
   ]
  },
  {
   "cell_type": "code",
   "execution_count": 6,
   "metadata": {},
   "outputs": [
    {
     "name": "stdout",
     "output_type": "stream",
     "text": [
      "Train CSV\n",
      "  image_id  grapheme_root  vowel_diacritic  consonant_diacritic grapheme\n",
      "0  Train_0             15                9                    5   ক্ট্রো\n",
      "1  Train_1            159                0                    0        হ\n",
      "2  Train_2             22                3                    5     খ্রী\n",
      "3  Train_3             53                2                    2     র্টি\n",
      "4  Train_4             71                9                    5     থ্রো\n",
      "\n",
      "Test CSV\n",
      "                       row_id image_id            component\n",
      "0  Test_0_consonant_diacritic   Test_0  consonant_diacritic\n",
      "1        Test_0_grapheme_root   Test_0        grapheme_root\n",
      "2      Test_0_vowel_diacritic   Test_0      vowel_diacritic\n",
      "3  Test_1_consonant_diacritic   Test_1  consonant_diacritic\n",
      "4        Test_1_grapheme_root   Test_1        grapheme_root\n",
      "\n",
      "Class Map CSV\n",
      "  component_type  label component\n",
      "0  grapheme_root      0         ং\n",
      "1  grapheme_root      1         ঃ\n",
      "2  grapheme_root      2         অ\n",
      "3  grapheme_root      3         আ\n",
      "4  grapheme_root      4         ই\n",
      "\n",
      "Sample Submission CSV\n",
      "                       row_id  target\n",
      "0  Test_0_consonant_diacritic       0\n",
      "1        Test_0_grapheme_root       0\n",
      "2      Test_0_vowel_diacritic       0\n",
      "3  Test_1_consonant_diacritic       0\n",
      "4        Test_1_grapheme_root       0\n",
      "\n"
     ]
    }
   ],
   "source": [
    "train_csv = pd.read_csv(path/'train.csv')\n",
    "test_csv = pd.read_csv(path/'test.csv')\n",
    "class_map_csv = pd.read_csv(path/'class_map.csv')\n",
    "sample_submission_csv = pd.read_csv(path/'sample_submission.csv')\n",
    "\n",
    "print_dfs([\n",
    "    ('Train CSV', train_csv),\n",
    "    ('Test CSV', test_csv),\n",
    "    ('Class Map CSV', class_map_csv),\n",
    "    ('Sample Submission CSV', sample_submission_csv),\n",
    "])"
   ]
  },
  {
   "cell_type": "code",
   "execution_count": 8,
   "metadata": {},
   "outputs": [
    {
     "name": "stdout",
     "output_type": "stream",
     "text": [
      "Num training images:\t 200840\n",
      "Num test images:\t 12\n"
     ]
    }
   ],
   "source": [
    "# How many train and test images?\n",
    "print('Num training images:\\t', len(train_csv.image_id.unique()))\n",
    "print('Num test images:\\t', len(test_csv.image_id.unique()))"
   ]
  },
  {
   "cell_type": "markdown",
   "metadata": {},
   "source": [
    "There's so few test images because kaggle limits how many can be downloaded. Instead, we'll have to train the model, save the weights, then load the model onto kaggle. Finally we'll make predictions on the test set there which should contain as many images as the training set."
   ]
  },
  {
   "cell_type": "markdown",
   "metadata": {},
   "source": [
    "## Break up Class Map into 3 pieces: \n",
    "- Grapheme Root\n",
    "- Vowel Diacritic\n",
    "- Consonant Diacritic"
   ]
  },
  {
   "cell_type": "code",
   "execution_count": 9,
   "metadata": {},
   "outputs": [
    {
     "data": {
      "text/plain": [
       "array(['grapheme_root', 'vowel_diacritic', 'consonant_diacritic'],\n",
       "      dtype=object)"
      ]
     },
     "execution_count": 9,
     "metadata": {},
     "output_type": "execute_result"
    }
   ],
   "source": [
    "class_map_csv.component_type.unique()"
   ]
  },
  {
   "cell_type": "code",
   "execution_count": 10,
   "metadata": {},
   "outputs": [
    {
     "name": "stdout",
     "output_type": "stream",
     "text": [
      "Grapheme Root\n",
      "  component_type  label component\n",
      "0  grapheme_root      0         ং\n",
      "1  grapheme_root      1         ঃ\n",
      "2  grapheme_root      2         অ\n",
      "3  grapheme_root      3         আ\n",
      "4  grapheme_root      4         ই\n",
      "\n",
      "Vowel Diacritic\n",
      "      component_type  label component\n",
      "168  vowel_diacritic      0         0\n",
      "169  vowel_diacritic      1         া\n",
      "170  vowel_diacritic      2         ি\n",
      "171  vowel_diacritic      3         ী\n",
      "172  vowel_diacritic      4         ু\n",
      "\n",
      "Consonant Diacritic\n",
      "          component_type  label component\n",
      "179  consonant_diacritic      0         0\n",
      "180  consonant_diacritic      1         ঁ\n",
      "181  consonant_diacritic      2        র্\n",
      "182  consonant_diacritic      3       র্য\n",
      "183  consonant_diacritic      4        ্য\n",
      "\n"
     ]
    }
   ],
   "source": [
    "grapheme_root = class_map_csv[class_map_csv.component_type == 'grapheme_root']\n",
    "vowel_diacritic = class_map_csv[class_map_csv.component_type == 'vowel_diacritic']\n",
    "consonant_diacritic = class_map_csv[class_map_csv.component_type == 'consonant_diacritic']\n",
    "\n",
    "print_dfs([\n",
    "    ('Grapheme Root', grapheme_root.head()),\n",
    "    ('Vowel Diacritic', vowel_diacritic.head()),\n",
    "    ('Consonant Diacritic', consonant_diacritic.head()),\n",
    "])"
   ]
  },
  {
   "cell_type": "code",
   "execution_count": 11,
   "metadata": {},
   "outputs": [
    {
     "name": "stdout",
     "output_type": "stream",
     "text": [
      "Num Grapheme Root:\t 168\n",
      "Num Vowel Diacritic:\t 11\n",
      "Num Consonant Diacritic: 7\n"
     ]
    }
   ],
   "source": [
    "print('Num Grapheme Root:\\t', len(grapheme_root.label.unique()))\n",
    "print('Num Vowel Diacritic:\\t', len(vowel_diacritic.label.unique()))\n",
    "print('Num Consonant Diacritic:', len(consonant_diacritic.label.unique()))"
   ]
  },
  {
   "cell_type": "markdown",
   "metadata": {},
   "source": [
    "## How many training images do not have a diacritic?\n",
    "(I believe all should have a grapheme root, and we'll confirm that too)"
   ]
  },
  {
   "cell_type": "code",
   "execution_count": 12,
   "metadata": {},
   "outputs": [],
   "source": [
    "# Ensure all images have a grapheme root\n",
    "data_w_no_grapheme_root = train_csv[train_csv.grapheme_root.isna()]\n",
    "data_w_no_grapheme = train_csv[train_csv.grapheme.isna()]\n",
    "\n",
    "assert len(data_w_no_grapheme_root) == 0\n",
    "assert len(data_w_no_grapheme) == 0"
   ]
  },
  {
   "cell_type": "code",
   "execution_count": 13,
   "metadata": {},
   "outputs": [
    {
     "data": {
      "text/plain": [
       "0"
      ]
     },
     "execution_count": 13,
     "metadata": {},
     "output_type": "execute_result"
    }
   ],
   "source": [
    "# How many images do not have a vowel diacritic?\n",
    "data_w_no_vowel_dia = train_csv[train_csv.vowel_diacritic.isna()]\n",
    "len(data_w_no_vowel_dia)"
   ]
  },
  {
   "cell_type": "code",
   "execution_count": 14,
   "metadata": {},
   "outputs": [
    {
     "data": {
      "text/plain": [
       "0"
      ]
     },
     "execution_count": 14,
     "metadata": {},
     "output_type": "execute_result"
    }
   ],
   "source": [
    "# How many images do not have a consonant diacritic?\n",
    "data_w_no_consonant_dia = train_csv[train_csv.consonant_diacritic.isna()]\n",
    "len(data_w_no_consonant_dia)"
   ]
  },
  {
   "cell_type": "markdown",
   "metadata": {},
   "source": [
    "## How are the class_maps distributed?\n",
    "We may end up with many more examples of one class than another which will make training more difficult."
   ]
  },
  {
   "cell_type": "code",
   "execution_count": 16,
   "metadata": {
    "scrolled": true
   },
   "outputs": [
    {
     "data": {
      "text/plain": [
       "<matplotlib.axes._subplots.AxesSubplot at 0x7f09bd48ad30>"
      ]
     },
     "execution_count": 16,
     "metadata": {},
     "output_type": "execute_result"
    },
    {
     "data": {
      "image/png": "[encoded data removed]",
      "text/plain": [
       "<Figure size 432x288 with 1 Axes>"
      ]
     },
     "metadata": {
      "needs_background": "light"
     },
     "output_type": "display_data"
    }
   ],
   "source": [
    "train_csv.grapheme_root.value_counts().hist()"
   ]
  },
  {
   "cell_type": "code",
   "execution_count": 17,
   "metadata": {},
   "outputs": [
    {
     "data": {
      "text/plain": [
       "<matplotlib.axes._subplots.AxesSubplot at 0x7f09bd408240>"
      ]
     },
     "execution_count": 17,
     "metadata": {},
     "output_type": "execute_result"
    },
    {
     "data": {
      "image/png": "[encoded data removed]",
      "text/plain": [
       "<Figure size 432x288 with 1 Axes>"
      ]
     },
     "metadata": {
      "needs_background": "light"
     },
     "output_type": "display_data"
    }
   ],
   "source": [
    "train_csv.vowel_diacritic.value_counts().hist()"
   ]
  },
  {
   "cell_type": "code",
   "execution_count": 64,
   "metadata": {},
   "outputs": [
    {
     "data": {
      "text/plain": [
       "(<matplotlib.axes._subplots.AxesSubplot at 0x7fdb5bd34c18>, 0    125278\n",
       " 2     23465\n",
       " 5     21397\n",
       " 4     21270\n",
       " 1      7424\n",
       " 6      1387\n",
       " 3       619\n",
       " Name: consonant_diacritic, dtype: int64)"
      ]
     },
     "execution_count": 64,
     "metadata": {},
     "output_type": "execute_result"
    },
    {
     "data": {
      "image/png": "[encoded data removed]",
      "text/plain": [
       "<Figure size 432x288 with 1 Axes>"
      ]
     },
     "metadata": {
      "needs_background": "light"
     },
     "output_type": "display_data"
    }
   ],
   "source": [
    "consonant_counts = train_csv.consonant_diacritic.value_counts()\n",
    "\n",
    "consonant_counts.hist(), consonant_counts.head(10)"
   ]
  },
  {
   "cell_type": "markdown",
   "metadata": {},
   "source": [
    "## All 3 of the graphs show how the value counts are distributed\n",
    "In the grapheme graph, we see most graphemes are used ~0-1500 times while some are used ~2000-5500 times. This makes predicting the ones used less often a bit more difficult.\n",
    "\n",
    "However, we may be able to use some data augmentation to artificially create more training data.\n",
    "\n",
    "Another thing to note is the gap in the consonants counts. There are 3 consonant diacritics used 20,000+ times, then there's a significant drop off rate for the other consonants. Again, this may make training more difficult."
   ]
  },
  {
   "cell_type": "markdown",
   "metadata": {},
   "source": [
    "## How many unique graphemes are there?"
   ]
  },
  {
   "cell_type": "code",
   "execution_count": 66,
   "metadata": {},
   "outputs": [
    {
     "data": {
      "text/plain": [
       "1295"
      ]
     },
     "execution_count": 66,
     "metadata": {},
     "output_type": "execute_result"
    }
   ],
   "source": [
    "len(train_csv.grapheme.unique())"
   ]
  },
  {
   "cell_type": "markdown",
   "metadata": {},
   "source": [
    "## How are graphemes and grapheme roots related?"
   ]
  },
  {
   "cell_type": "code",
   "execution_count": 85,
   "metadata": {},
   "outputs": [
    {
     "data": {
      "text/plain": [
       "<matplotlib.axes._subplots.AxesSubplot at 0x7fdb56551f98>"
      ]
     },
     "execution_count": 85,
     "metadata": {},
     "output_type": "execute_result"
    },
    {
     "data": {
      "image/png": "[encoded data removed]",
      "text/plain": [
       "<Figure size 432x288 with 1 Axes>"
      ]
     },
     "metadata": {
      "needs_background": "light"
     },
     "output_type": "display_data"
    }
   ],
   "source": [
    "train_csv[['grapheme_root', 'grapheme']].groupby('grapheme_root').count()['grapheme'].plot()"
   ]
  },
  {
   "cell_type": "markdown",
   "metadata": {},
   "source": [
    "# Summary\n",
    "\n",
    "- Num. of images:\n",
    "  - train: **200,840**\n",
    "  - test: **12**\n",
    "- This means there will be **36 rows** in the submission file because each test image gets 3 rows of output:\n",
    "  - [grapheme root](https://en.wikipedia.org/wiki/Grapheme)\n",
    "  - [vowel diacritic](https://en.wikipedia.org/wiki/Diacritic)\n",
    "  - [consonant diacritic](https://en.wikipedia.org/wiki/Diacritic)\n",
    "- Num unique items in class map:\n",
    "  - grapheme root: 168\n",
    "  - vowel diacritic: 11\n",
    "  - consonant diacritic: 7\n",
    "- Vowel/Consonant diacritic of 0 means *there's no diacritic*\n",
    "- There are 1295 unique graphemes but only 168 unique grapheme roots\n",
    "  \n",
    "# Other Notes\n",
    "- A [diacritic](https://en.wikipedia.org/wiki/Diacritic) is an accent put onto a letter. One purpose is to change how the word is pronounced. "
   ]
  },
  {
   "cell_type": "code",
   "execution_count": null,
   "metadata": {},
   "outputs": [],
   "source": []
  }
 ],
 "metadata": {
  "kernelspec": {
   "display_name": "Python 3",
   "language": "python",
   "name": "python3"
  },
  "language_info": {
   "codemirror_mode": {
    "name": "ipython",
    "version": 3
   },
   "file_extension": ".py",
   "mimetype": "text/x-python",
   "name": "python",
   "nbconvert_exporter": "python",
   "pygments_lexer": "ipython3",
   "version": "3.7.3"
  }
 },
 "nbformat": 4,
 "nbformat_minor": 2
}
